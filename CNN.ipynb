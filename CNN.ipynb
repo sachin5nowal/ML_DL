{
 "cells": [
  {
   "cell_type": "code",
   "execution_count": 1,
   "metadata": {},
   "outputs": [],
   "source": [
    "import pandas as pd\n",
    "import numpy as np\n",
    "from sklearn.model_selection import train_test_split"
   ]
  },
  {
   "cell_type": "code",
   "execution_count": 43,
   "metadata": {},
   "outputs": [],
   "source": [
    "df=pd.read_csv('/home/sachin/Downloads/Datasets/MNIST dataset/train.csv')"
   ]
  },
  {
   "cell_type": "code",
   "execution_count": null,
   "metadata": {},
   "outputs": [],
   "source": []
  },
  {
   "cell_type": "code",
   "execution_count": 3,
   "metadata": {},
   "outputs": [
    {
     "data": {
      "text/plain": [
       "(42000, 785)"
      ]
     },
     "execution_count": 3,
     "metadata": {},
     "output_type": "execute_result"
    }
   ],
   "source": [
    "df.shape"
   ]
  },
  {
   "cell_type": "code",
   "execution_count": 4,
   "metadata": {},
   "outputs": [],
   "source": [
    "test_size=0.2\n",
    "X=df.drop(['label'],axis=1)\n",
    "y=df['label']"
   ]
  },
  {
   "cell_type": "code",
   "execution_count": null,
   "metadata": {},
   "outputs": [],
   "source": [
    "\n"
   ]
  },
  {
   "cell_type": "code",
   "execution_count": 5,
   "metadata": {},
   "outputs": [],
   "source": [
    "X_train, X_test, y_train, y_test = train_test_split(X, y, test_size=0.2, random_state=23)"
   ]
  },
  {
   "cell_type": "code",
   "execution_count": 172,
   "metadata": {
    "scrolled": true
   },
   "outputs": [
    {
     "name": "stderr",
     "output_type": "stream",
     "text": [
      "/home/sachin/anaconda3/lib/python3.6/site-packages/ipykernel_launcher.py:1: DeprecationWarning: This function is deprecated. Please call randint(1, 10 + 1) instead\n",
      "  \"\"\"Entry point for launching an IPython kernel.\n"
     ]
    },
    {
     "data": {
      "text/plain": [
       "array([[ 6,  7,  8,  2,  3, 10,  3,  4,  8,  7,  2, 10, 10,  3,  4,  9],\n",
       "       [ 8,  4,  9, 10,  4, 10,  5,  6,  2,  2,  1,  7,  7,  1,  4,  7],\n",
       "       [ 2,  7,  5,  1,  7,  6,  9,  1,  2,  8,  9,  9,  3, 10, 10,  3],\n",
       "       [ 5,  3,  8,  1,  1,  8,  4, 10,  7,  8, 10,  6,  5,  4,  3,  7],\n",
       "       [ 2, 10,  8,  3,  2,  4,  3,  5,  7,  1,  4,  3,  7,  3,  3, 10],\n",
       "       [ 1,  1,  2,  4,  3,  5,  3, 10,  1,  7,  7,  1,  1,  3,  8,  6],\n",
       "       [ 9,  2,  7,  3,  3,  9,  2,  4,  8,  5,  6,  7,  6,  2,  7,  6],\n",
       "       [ 9,  7,  7,  2, 10,  3,  6,  8,  4,  7,  8,  8, 10,  2,  9,  8],\n",
       "       [ 9,  3,  1,  9,  3,  2,  5,  8,  1,  4, 10,  3,  8,  4,  1,  3],\n",
       "       [ 4,  3,  7,  4,  2,  2,  8,  6,  3,  1,  8,  3,  4,  2,  1,  6],\n",
       "       [10,  5,  5,  2,  2,  3,  4,  8,  8,  2,  7,  2,  5, 10,  7,  8],\n",
       "       [ 6,  2,  6,  2,  1,  8, 10,  9,  6,  1,  2,  5,  1, 10,  8,  6],\n",
       "       [ 9,  7,  4,  9, 10,  2,  1,  2,  9,  9,  4,  6,  9,  6,  5,  5],\n",
       "       [10,  6, 10,  4,  4,  1, 10,  8,  2,  1,  4,  9,  7,  4,  1, 10],\n",
       "       [ 7,  6,  6,  6,  4,  4, 10,  7,  9,  4,  6,  5,  5,  3,  3,  3],\n",
       "       [ 1,  4,  3,  3,  6,  6,  2, 10,  5, 10,  9,  1,  1,  1,  4,  5]])"
      ]
     },
     "execution_count": 172,
     "metadata": {},
     "output_type": "execute_result"
    }
   ],
   "source": [
    "temp=np.random.random_integers(10,size=(16,16))\n",
    "temp"
   ]
  },
  {
   "cell_type": "code",
   "execution_count": 46,
   "metadata": {},
   "outputs": [
    {
     "data": {
      "text/plain": [
       "array([  0,   3, 141, 139,   9, 254,   8, 106, 184,   6, 185,  89,   4,\n",
       "       146, 156, 255,  63,  62])"
      ]
     },
     "execution_count": 46,
     "metadata": {},
     "output_type": "execute_result"
    }
   ],
   "source": [
    "X_train.loc[2].unique()"
   ]
  },
  {
   "cell_type": "code",
   "execution_count": 167,
   "metadata": {},
   "outputs": [
    {
     "data": {
      "image/png": "[encoded data removed]",
      "text/plain": [
       "<Figure size 432x288 with 1 Axes>"
      ]
     },
     "metadata": {},
     "output_type": "display_data"
    }
   ],
   "source": [
    "j=np.array(X_train.loc[90].copy()).reshape(28,28)\n",
    "from matplotlib import pyplot as plt\n",
    "plt.imshow(j,cmap='gray_r')\n",
    "plt.show()"
   ]
  },
  {
   "cell_type": "code",
   "execution_count": 115,
   "metadata": {},
   "outputs": [
    {
     "ename": "TypeError",
     "evalue": "'int' object is not iterable",
     "output_type": "error",
     "traceback": [
      "\u001b[0;31m---------------------------------------------------------------------------\u001b[0m",
      "\u001b[0;31mTypeError\u001b[0m                                 Traceback (most recent call last)",
      "\u001b[0;32m<ipython-input-115-02bdd0fd1bca>\u001b[0m in \u001b[0;36m<module>\u001b[0;34m()\u001b[0m\n\u001b[0;32m----> 1\u001b[0;31m \u001b[0mmax\u001b[0m\u001b[0;34m(\u001b[0m\u001b[0;36m2\u001b[0m\u001b[0;34m)\u001b[0m\u001b[0;34m\u001b[0m\u001b[0m\n\u001b[0m",
      "\u001b[0;31mTypeError\u001b[0m: 'int' object is not iterable"
     ]
    }
   ],
   "source": [
    "max(2)"
   ]
  },
  {
   "cell_type": "code",
   "execution_count": 231,
   "metadata": {},
   "outputs": [],
   "source": [
    "def max_pool(image,size):\n",
    "    print(int(image.shape[0]/size))\n",
    "    max_pool_df=np.zeros((int(image.shape[0]/size),int(image.shape[1]/size)))\n",
    "    for i in range(0,image.shape[0],2):\n",
    "        for k in range(0,image.shape[0],2):\n",
    "            max_pool_df[int(i/2)][int(k/2)]=image[i:i+size,k:k+size].max()\n",
    "    return max_pool_df"
   ]
  },
  {
   "cell_type": "code",
   "execution_count": null,
   "metadata": {},
   "outputs": [],
   "source": []
  },
  {
   "cell_type": "code",
   "execution_count": 238,
   "metadata": {},
   "outputs": [
    {
     "name": "stderr",
     "output_type": "stream",
     "text": [
      "/home/sachin/anaconda3/lib/python3.6/site-packages/ipykernel_launcher.py:1: DeprecationWarning: This function is deprecated. Please call randint(1, 10 + 1) instead\n",
      "  \"\"\"Entry point for launching an IPython kernel.\n"
     ]
    },
    {
     "ename": "TypeError",
     "evalue": "'int' object is not callable",
     "output_type": "error",
     "traceback": [
      "\u001b[0;31m---------------------------------------------------------------------------\u001b[0m",
      "\u001b[0;31mTypeError\u001b[0m                                 Traceback (most recent call last)",
      "\u001b[0;32m<ipython-input-238-1bdf9a49b326>\u001b[0m in \u001b[0;36m<module>\u001b[0;34m()\u001b[0m\n\u001b[1;32m      1\u001b[0m \u001b[0mtemp2\u001b[0m\u001b[0;34m=\u001b[0m\u001b[0mnp\u001b[0m\u001b[0;34m.\u001b[0m\u001b[0mrandom\u001b[0m\u001b[0;34m.\u001b[0m\u001b[0mrandom_integers\u001b[0m\u001b[0;34m(\u001b[0m\u001b[0;36m10\u001b[0m\u001b[0;34m,\u001b[0m\u001b[0msize\u001b[0m\u001b[0;34m=\u001b[0m\u001b[0;34m(\u001b[0m\u001b[0;36m4\u001b[0m\u001b[0;34m,\u001b[0m\u001b[0;36m4\u001b[0m\u001b[0;34m)\u001b[0m\u001b[0;34m)\u001b[0m\u001b[0;34m\u001b[0m\u001b[0m\n\u001b[0;32m----> 2\u001b[0;31m \u001b[0mprint\u001b[0m\u001b[0;34m(\u001b[0m\u001b[0mtemp2\u001b[0m\u001b[0;34m.\u001b[0m\u001b[0msum\u001b[0m\u001b[0;34m(\u001b[0m\u001b[0;34m)\u001b[0m\u001b[0;34m/\u001b[0m\u001b[0mtemp\u001b[0m\u001b[0;34m.\u001b[0m\u001b[0msize\u001b[0m\u001b[0;34m(\u001b[0m\u001b[0;34m)\u001b[0m\u001b[0;34m)\u001b[0m\u001b[0;34m\u001b[0m\u001b[0m\n\u001b[0m\u001b[1;32m      3\u001b[0m \u001b[0mprint\u001b[0m\u001b[0;34m(\u001b[0m\u001b[0mtemp2\u001b[0m\u001b[0;34m[\u001b[0m\u001b[0;34m:\u001b[0m\u001b[0;36m3\u001b[0m\u001b[0;34m,\u001b[0m\u001b[0;34m:\u001b[0m\u001b[0;36m2\u001b[0m\u001b[0;34m]\u001b[0m\u001b[0;34m)\u001b[0m\u001b[0;34m\u001b[0m\u001b[0m\n",
      "\u001b[0;31mTypeError\u001b[0m: 'int' object is not callable"
     ]
    }
   ],
   "source": [
    "temp2=np.random.random_integers(10,size=(4,4))\n",
    "print(temp2[:3,:2])"
   ]
  },
  {
   "cell_type": "code",
   "execution_count": 220,
   "metadata": {},
   "outputs": [
    {
     "name": "stdout",
     "output_type": "stream",
     "text": [
      "0\n",
      "2\n",
      "4\n",
      "6\n",
      "8\n",
      "10\n",
      "12\n",
      "14\n",
      "16\n",
      "18\n",
      "20\n",
      "22\n",
      "24\n",
      "26\n"
     ]
    }
   ],
   "source": []
  },
  {
   "cell_type": "code",
   "execution_count": 233,
   "metadata": {},
   "outputs": [
    {
     "data": {
      "image/png": "[encoded data removed]",
      "text/plain": [
       "<Figure size 432x288 with 1 Axes>"
      ]
     },
     "metadata": {},
     "output_type": "display_data"
    },
    {
     "name": "stdout",
     "output_type": "stream",
     "text": [
      "14\n"
     ]
    },
    {
     "data": {
      "image/png": "[encoded data removed]",
      "text/plain": [
       "<Figure size 432x288 with 1 Axes>"
      ]
     },
     "metadata": {},
     "output_type": "display_data"
    }
   ],
   "source": [
    "j=np.array(X_train.loc[45].copy()).reshape(28,28)\n",
    "from matplotlib import pyplot as plt\n",
    "plt.imshow(j,cmap='gray_r')\n",
    "plt.show()\n",
    "plt.imshow(max_pool(j,2), cmap='gray_r')\n",
    "plt.show()\n",
    "#print(j)"
   ]
  },
  {
   "cell_type": "code",
   "execution_count": null,
   "metadata": {},
   "outputs": [],
   "source": []
  },
  {
   "cell_type": "code",
   "execution_count": 89,
   "metadata": {
    "scrolled": true
   },
   "outputs": [
    {
     "data": {
      "text/plain": [
       "5"
      ]
     },
     "execution_count": 89,
     "metadata": {},
     "output_type": "execute_result"
    }
   ],
   "source": [
    "max(max([2,3],[4,5]))"
   ]
  },
  {
   "cell_type": "code",
   "execution_count": null,
   "metadata": {},
   "outputs": [],
   "source": [
    "def conv(grid1,filter1,padding,stride):\n",
    "    "
   ]
  },
  {
   "cell_type": "code",
   "execution_count": 245,
   "metadata": {},
   "outputs": [
    {
     "data": {
      "text/plain": [
       "(16, 16)"
      ]
     },
     "execution_count": 245,
     "metadata": {},
     "output_type": "execute_result"
    }
   ],
   "source": [
    "temp.shape"
   ]
  },
  {
   "cell_type": "code",
   "execution_count": 15,
   "metadata": {},
   "outputs": [
    {
     "data": {
      "text/plain": [
       "array([0., 0., 0., 0., 0., 0., 0., 0., 0., 0., 0., 0., 0., 0., 0., 0.])"
      ]
     },
     "execution_count": 15,
     "metadata": {},
     "output_type": "execute_result"
    }
   ],
   "source": []
  },
  {
   "cell_type": "code",
   "execution_count": 9,
   "metadata": {},
   "outputs": [],
   "source": [
    "#def convlutoion_func(grid1,filter1,padding,stride):\n",
    "#def max_pooling():\n",
    "#def avg_pooling():\n",
    "#def softmax_function():"
   ]
  },
  {
   "cell_type": "code",
   "execution_count": 287,
   "metadata": {},
   "outputs": [
    {
     "name": "stderr",
     "output_type": "stream",
     "text": [
      "/home/sachin/anaconda3/lib/python3.6/site-packages/ipykernel_launcher.py:1: DeprecationWarning: This function is deprecated. Please call randint(-1, 1 + 1) instead\n",
      "  \"\"\"Entry point for launching an IPython kernel.\n"
     ]
    }
   ],
   "source": [
    "filter1=np.random.random_integers(-1,1,size=(4,4))\n",
    "def conv(image,filter1,padding,stride):\n",
    "    for i in range(padding):\n",
    "        image=np.insert(image,0,0,0)\n",
    "        image=np.insert(image,0,0,1)\n",
    "        image=np.insert(image,image.shape[0],0,0)\n",
    "        image=np.insert(image,image.shape[1],0,1)\n",
    "    for i in range(image.shape[0])\n",
    "    \n",
    "\n",
    "    "
   ]
  },
  {
   "cell_type": "code",
   "execution_count": 286,
   "metadata": {},
   "outputs": [
    {
     "name": "stderr",
     "output_type": "stream",
     "text": [
      "/home/sachin/anaconda3/lib/python3.6/site-packages/ipykernel_launcher.py:1: DeprecationWarning: This function is deprecated. Please call randint(1, 10 + 1) instead\n",
      "  \"\"\"Entry point for launching an IPython kernel.\n"
     ]
    },
    {
     "data": {
      "text/plain": [
       "array([[ 9,  2,  2,  9,  0,  0],\n",
       "       [ 7,  5, 10, 10,  0,  0],\n",
       "       [ 7,  9,  5,  5,  0,  0],\n",
       "       [ 4,  8,  9,  3,  0,  0]])"
      ]
     },
     "execution_count": 286,
     "metadata": {},
     "output_type": "execute_result"
    }
   ],
   "source": [
    "temp3=np.random.random_integers(10,size=(4,4))\n",
    "row=np.zeros([1,4])\n",
    "temp3=np.insert(temp3,4,0,1)\n",
    "temp3=np.insert(temp3,4,0,1)\n",
    "temp3"
   ]
  },
  {
   "cell_type": "code",
   "execution_count": 298,
   "metadata": {},
   "outputs": [
    {
     "data": {
      "text/plain": [
       "array([[5., 5., 5., 5., 5., 5., 5., 5., 5., 5., 5., 5., 5., 5., 5., 5.],\n",
       "       [5., 5., 5., 5., 5., 5., 5., 5., 5., 5., 5., 5., 5., 5., 5., 5.],\n",
       "       [5., 5., 5., 5., 5., 5., 5., 5., 5., 5., 5., 5., 5., 5., 5., 5.],\n",
       "       [5., 5., 5., 5., 5., 5., 5., 5., 5., 5., 5., 5., 5., 5., 5., 5.],\n",
       "       [5., 5., 5., 5., 5., 5., 5., 5., 5., 5., 5., 5., 5., 5., 5., 5.],\n",
       "       [5., 5., 5., 5., 5., 5., 5., 5., 5., 5., 5., 5., 5., 5., 5., 5.],\n",
       "       [5., 5., 5., 5., 5., 5., 5., 5., 5., 5., 5., 5., 5., 5., 5., 5.],\n",
       "       [5., 5., 5., 5., 5., 5., 5., 5., 5., 5., 5., 5., 5., 5., 5., 5.],\n",
       "       [5., 5., 5., 5., 5., 5., 5., 5., 5., 5., 5., 5., 5., 5., 5., 5.],\n",
       "       [5., 5., 5., 5., 5., 5., 5., 5., 5., 5., 5., 5., 5., 5., 5., 5.],\n",
       "       [5., 5., 5., 5., 5., 5., 5., 5., 5., 5., 5., 5., 5., 5., 5., 5.],\n",
       "       [5., 5., 5., 5., 5., 5., 5., 5., 5., 5., 5., 5., 5., 5., 5., 5.],\n",
       "       [5., 5., 5., 5., 5., 5., 5., 5., 5., 5., 5., 5., 5., 5., 5., 5.],\n",
       "       [5., 5., 5., 5., 5., 5., 5., 5., 5., 5., 5., 5., 5., 5., 5., 5.],\n",
       "       [5., 5., 5., 5., 5., 5., 5., 5., 5., 5., 5., 5., 5., 5., 5., 5.],\n",
       "       [5., 5., 5., 5., 5., 5., 5., 5., 5., 5., 5., 5., 5., 5., 5., 5.]])"
      ]
     },
     "execution_count": 298,
     "metadata": {},
     "output_type": "execute_result"
    }
   ],
   "source": [
    "z1=np.zeros([16,16])+5\n",
    "z1"
   ]
  },
  {
   "cell_type": "code",
   "execution_count": 308,
   "metadata": {},
   "outputs": [],
   "source": [
    "def relu(image):\n",
    "    return np.maximum(0,temp)\n",
    "def leaky_relu(image):\n",
    "    return np.maximum(0.01*temp,temp)"
   ]
  },
  {
   "cell_type": "code",
   "execution_count": 307,
   "metadata": {},
   "outputs": [
    {
     "data": {
      "text/plain": [
       "array([[ 9,  7,  5,  3,  5,  7,  9,  6,  2,  4,  3,  2, 10,  8,  4,  4],\n",
       "       [ 9,  9,  5,  9,  7,  8,  5,  7,  3,  1,  2,  3,  2, 10,  3,  1],\n",
       "       [ 8,  1,  3,  2,  5,  9,  4,  4,  7, 10,  5,  6,  3,  8,  8,  1],\n",
       "       [ 4,  5,  6,  9,  7,  5,  1,  8,  5, 10,  8, 10,  3,  1,  3,  5],\n",
       "       [ 6,  1,  9, 10,  6,  3,  6,  8,  5,  4,  4,  8,  9,  7,  4,  4],\n",
       "       [10,  1,  9,  6,  4, 10,  2,  4,  7,  8,  5, 10,  3,  4,  8,  8],\n",
       "       [ 9,  7,  1,  3,  1,  4,  8,  8,  7,  8,  3,  2,  2,  1,  1,  2],\n",
       "       [ 6,  3,  8,  3,  7, 10,  5,  8,  6,  4,  7,  6,  1,  8,  5,  2],\n",
       "       [ 6,  2,  3,  5,  3,  7,  9, 10,  6,  9, 10,  1,  8, 10,  4,  6],\n",
       "       [ 6,  4,  4,  1,  1, 10,  6,  5,  7,  8,  9,  6,  3,  1,  1,  1],\n",
       "       [ 9,  7,  1,  9,  4,  5,  6,  9,  2,  3,  3,  3,  7,  2,  1,  6],\n",
       "       [ 2,  1,  1,  8,  2,  1,  4,  8,  5,  9,  6,  5,  4,  4, 10, 10],\n",
       "       [ 8,  2,  9,  7,  8,  2,  4,  4,  2,  2,  5,  8,  9,  6,  3,  3],\n",
       "       [ 1, 10,  2,  2,  2,  4,  4,  2,  8,  2,  1,  2,  2,  8,  7,  2],\n",
       "       [ 8,  1,  4,  8,  4,  8,  6,  5,  4,  2,  2,  1,  1,  2,  3,  6],\n",
       "       [ 2,  3,  6,  3,  4,  9,  7, 10,  2,  3,  7,  6,  6,  3,  5,  9]])"
      ]
     },
     "execution_count": 307,
     "metadata": {},
     "output_type": "execute_result"
    }
   ],
   "source": []
  }
 ],
 "metadata": {
  "kernelspec": {
   "display_name": "Python 3",
   "language": "python",
   "name": "python3"
  },
  "language_info": {
   "codemirror_mode": {
    "name": "ipython",
    "version": 3
   },
   "file_extension": ".py",
   "mimetype": "text/x-python",
   "name": "python",
   "nbconvert_exporter": "python",
   "pygments_lexer": "ipython3",
   "version": "3.6.5"
  }
 },
 "nbformat": 4,
 "nbformat_minor": 2
}
